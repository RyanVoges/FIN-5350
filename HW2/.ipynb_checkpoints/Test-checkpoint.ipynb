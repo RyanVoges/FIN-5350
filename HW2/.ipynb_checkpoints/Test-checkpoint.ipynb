{
 "cells": [
  {
   "cell_type": "markdown",
   "metadata": {},
   "source": [
    "## Q1\n",
    "\n",
    "for loop running through a final equation <br>\n",
    "equation = a*6 + b*9 + c*20 * <br>\n",
    "create a library for sizes * <br>\n",
    "while loop for the count * <br>\n",
    "    \n",
    "variables: <br>\n",
    "    x, y, z, sm, md, lg * <br>\n",
    "    test number * <br>\n",
    "    count of consecutive \"good\"s * <br>\n",
    "    highest number * <br>"
   ]
  },
  {
   "cell_type": "code",
   "execution_count": 7,
   "metadata": {},
   "outputs": [
    {
     "name": "stdout",
     "output_type": "stream",
     "text": [
      "The most nuggets you cannot buy is 43 .\n"
     ]
    }
   ],
   "source": [
    "def nuggets(test, size):\n",
    "    for x in range(test//size[\"sm\"] + 1):\n",
    "        for y in range(test//size['md'] + 1):\n",
    "            for z in range(test//size['lg'] + 1):\n",
    "                if test == x*size['sm'] + y*size['md'] + z*size['lg']:\n",
    "                    return True\n",
    "    return False\n",
    "\n",
    "def main():\n",
    "    size = {'sm': 6, 'md': 9, 'lg': 20}\n",
    "    test = size['sm']\n",
    "    count = 0\n",
    "    \n",
    "    while count < size['sm']:\n",
    "        if nuggets(test, size):\n",
    "            count +=1\n",
    "        else:\n",
    "            count = 0\n",
    "            high = test\n",
    "        test += 1\n",
    "    print(\"The most nuggets you cannot buy is\", high, \".\")\n",
    "        \n",
    "if __name__ == \"__main__\":\n",
    "    main()"
   ]
  },
  {
   "cell_type": "markdown",
   "metadata": {},
   "source": [
    "## Q2\n",
    "\n",
    "I lost my code of breaking down the problem into smaller pieces"
   ]
  },
  {
   "cell_type": "code",
   "execution_count": 27,
   "metadata": {},
   "outputs": [
    {
     "name": "stdout",
     "output_type": "stream",
     "text": [
      "Welcome to 'Guess Your Number'!\n"
     ]
    },
    {
     "name": "stdin",
     "output_type": "stream",
     "text": [
      "Please enter the lower bound for the game. e.g. 1 1\n",
      "Please enter the upper bound for the game. e.g. 100 100\n"
     ]
    },
    {
     "name": "stdout",
     "output_type": "stream",
     "text": [
      "Now think of a number between  1  and  100 .\n",
      "I will try to guess your number in as few attempts as possible.\n"
     ]
    },
    {
     "name": "stdin",
     "output_type": "stream",
     "text": [
      "Press enter when you have chosen your number \n"
     ]
    },
    {
     "name": "stdout",
     "output_type": "stream",
     "text": [
      "Is your number  50 ?\n"
     ]
    },
    {
     "name": "stdin",
     "output_type": "stream",
     "text": [
      "'higher', 'lower', or 'yes' higher\n"
     ]
    },
    {
     "name": "stdout",
     "output_type": "stream",
     "text": [
      "Is your number  75 ?\n"
     ]
    },
    {
     "name": "stdin",
     "output_type": "stream",
     "text": [
      "'higher', 'lower', or 'yes' lower\n"
     ]
    },
    {
     "name": "stdout",
     "output_type": "stream",
     "text": [
      "Is your number  62 ?\n"
     ]
    },
    {
     "name": "stdin",
     "output_type": "stream",
     "text": [
      "'higher', 'lower', or 'yes' hi\n"
     ]
    },
    {
     "name": "stdout",
     "output_type": "stream",
     "text": [
      "What?\n",
      "Is your number  62 ?\n"
     ]
    },
    {
     "name": "stdin",
     "output_type": "stream",
     "text": [
      "'higher', 'lower', or 'yes' yes\n"
     ]
    },
    {
     "name": "stdout",
     "output_type": "stream",
     "text": [
      "I guessed it! Your number was 62\n",
      "And it only took me 3 tries!\n",
      "\n"
     ]
    }
   ],
   "source": [
    "def footer(guess, tries):\n",
    "    print(\"I guessed it! Your number was\", guess)\n",
    "    print(\"And it only took me\", tries, \"tries!\\n\")\n",
    "        \n",
    "def main():\n",
    "    print(\"Welcome to 'Guess Your Number'!\")\n",
    "    low = int(input(\"Please enter the lower bound for the game. e.g. 1\"))\n",
    "    high = int(input(\"Please enter the upper bound for the game. e.g. 100\"))\n",
    "    print(\"Now think of a number between \", low, \" and \", high,\".\")\n",
    "    print(\"I will try to guess your number in as few attempts as possible.\")\n",
    "    input(\"Press enter when you have chosen your number\")\n",
    "    \n",
    "    guess = (low + high)//2\n",
    "    tries = 1\n",
    "    \n",
    "    print(\"Is your number \", guess, \"?\" )\n",
    "    user = input(\"'higher', 'lower', or 'yes'\")\n",
    "    while user != \"yes\":\n",
    "        if user == 'higher':\n",
    "            low = guess\n",
    "            tries += 1\n",
    "        elif user == 'lower':\n",
    "            high = guess\n",
    "            tries += 1  \n",
    "        else:\n",
    "            print(\"What?\")\n",
    "        guess = (low + high)//2\n",
    "        print(\"Is your number \", guess, \"?\" )\n",
    "        user = input(\"'higher', 'lower', or 'yes'\")\n",
    "    \n",
    "    footer(guess, tries)\n",
    "    \n",
    "    \n",
    "if __name__ == \"__main__\":\n",
    "    main()"
   ]
  },
  {
   "cell_type": "markdown",
   "metadata": {},
   "source": [
    "## Q3\n",
    "\n",
    "variables: <br>\n",
    "    FV<br>\n",
    "    nper<br>\n",
    "    coupon<br>\n",
    "    freq<br>\n",
    "    YTM<br>\n",
    "    cash_flows<br>\n",
    "    \n",
    "Functions:<br>\n",
    "    bond calc<br>\n",
    "    loop for discounting CFs<br>\n",
    "    "
   ]
  },
  {
   "cell_type": "code",
   "execution_count": 25,
   "metadata": {},
   "outputs": [
    {
     "data": {
      "text/plain": [
       "array([  50.,   50.,   50.,   50.,   50.,   50.,   50.,   50.,   50.,\n",
       "         50.,   50.,   50.,   50.,   50.,   50.,   50.,   50.,   50.,\n",
       "         50.,   50.,   50.,   50.,   50.,   50.,   50.,   50.,   50.,\n",
       "         50.,   50.,   50.,   50.,   50.,   50.,   50.,   50.,   50.,\n",
       "         50.,   50.,   50., 1050.])"
      ]
     },
     "execution_count": 25,
     "metadata": {},
     "output_type": "execute_result"
    }
   ],
   "source": [
    "## Here is how to set up the bond's cash flows\n",
    "import numpy as np\n",
    "cash_flows = np.empty(40)\n",
    "cash_flows.fill(50.0)\n",
    "cash_flows[-1] += 1000.0\n",
    "cash_flows"
   ]
  },
  {
   "cell_type": "code",
   "execution_count": null,
   "metadata": {},
   "outputs": [],
   "source": [
    "rate = 0.06\n",
    "price = present_value(rate, cash_flows)\n",
    "print(f\"The price of the bond is: ${price :,.2f}\")"
   ]
  },
  {
   "cell_type": "code",
   "execution_count": 8,
   "metadata": {},
   "outputs": [
    {
     "name": "stdout",
     "output_type": "stream",
     "text": [
      "The price of the bond is: $849.537031\n"
     ]
    }
   ],
   "source": [
    "def present_value():\n",
    "    FV = 1000\n",
    "    nper = 40\n",
    "    coupon = .1\n",
    "    freq = 2\n",
    "    YTM = .12\n",
    "    cash_flows = np.empty(nper)\n",
    "    cash_flows.fill(FV*coupon/freq)\n",
    "    cash_flows[-1] += FV\n",
    "    per = 1\n",
    "    PV = 0\n",
    "    for i in cash_flows:\n",
    "        PV += i/(1+YTM/freq)**per\n",
    "        per +=1\n",
    "    \n",
    "    print(f\"The price of the bond is: ${PV :,.6f}\")        \n",
    "present_value()"
   ]
  },
  {
   "cell_type": "markdown",
   "metadata": {},
   "source": [
    "## Q4"
   ]
  },
  {
   "cell_type": "code",
   "execution_count": null,
   "metadata": {},
   "outputs": [],
   "source": [
    "variables \n",
    "    - ytm(guess) and correct answer - needs function\n",
    "    - effective annual yield - function\n",
    "    - guessed price based on ytm guess(will be used to see if we need to increase or decrease our guess) - needs a function\n",
    "    - given price\n",
    "    - coupon\n",
    "    - face value\n",
    "    - upperbound\n",
    "    - lowerbound\n",
    "    \n",
    "    \n",
    "    \n",
    "Functions\n",
    "    - guesser (while loop) changes our ytm guess\n",
    "    - bond value - based on ytm\n",
    "    - effective yield - calculated once we get the right ytm\n",
    "\n",
    "When our bond value guess is less than our bond value === the ytm is too high\n",
    "when our bond value guess is greater than our bond value === the ytm is too low\n"
   ]
  },
  {
   "cell_type": "code",
   "execution_count": 55,
   "metadata": {},
   "outputs": [
    {
     "ename": "KeyboardInterrupt",
     "evalue": "",
     "output_type": "error",
     "traceback": [
      "\u001b[1;31m---------------------------------------------------------------------------\u001b[0m",
      "\u001b[1;31mKeyboardInterrupt\u001b[0m                         Traceback (most recent call last)",
      "\u001b[1;32m<ipython-input-55-70d97dc2e5cb>\u001b[0m in \u001b[0;36m<module>\u001b[1;34m\u001b[0m\n\u001b[0;32m     34\u001b[0m     \u001b[0mprint\u001b[0m\u001b[1;33m(\u001b[0m\u001b[1;34mf\"The Effective Yield of the bond is: {EY*100 :,.2f}%\"\u001b[0m\u001b[1;33m)\u001b[0m\u001b[1;33m\u001b[0m\u001b[1;33m\u001b[0m\u001b[0m\n\u001b[0;32m     35\u001b[0m \u001b[1;33m\u001b[0m\u001b[0m\n\u001b[1;32m---> 36\u001b[1;33m \u001b[0mpvguess\u001b[0m\u001b[1;33m(\u001b[0m\u001b[0mnper\u001b[0m\u001b[1;33m,\u001b[0m \u001b[0mcoupon\u001b[0m\u001b[1;33m,\u001b[0m \u001b[0mfreq\u001b[0m\u001b[1;33m,\u001b[0m \u001b[0mbondprice\u001b[0m\u001b[1;33m,\u001b[0m \u001b[0mFV\u001b[0m\u001b[1;33m)\u001b[0m\u001b[1;33m\u001b[0m\u001b[1;33m\u001b[0m\u001b[0m\n\u001b[0m",
      "\u001b[1;32m<ipython-input-55-70d97dc2e5cb>\u001b[0m in \u001b[0;36mpvguess\u001b[1;34m(nper, coupon, freq, bondprice, FV)\u001b[0m\n\u001b[0;32m     28\u001b[0m             \u001b[0mPV\u001b[0m \u001b[1;33m+=\u001b[0m \u001b[0mi\u001b[0m\u001b[1;33m/\u001b[0m\u001b[1;33m(\u001b[0m\u001b[1;36m1\u001b[0m\u001b[1;33m+\u001b[0m\u001b[0mytm_guess\u001b[0m\u001b[1;33m/\u001b[0m\u001b[0mfreq\u001b[0m\u001b[1;33m)\u001b[0m\u001b[1;33m**\u001b[0m\u001b[0mper\u001b[0m\u001b[1;33m\u001b[0m\u001b[1;33m\u001b[0m\u001b[0m\n\u001b[0;32m     29\u001b[0m             \u001b[0mPV\u001b[0m \u001b[1;33m=\u001b[0m \u001b[0mround\u001b[0m\u001b[1;33m(\u001b[0m\u001b[0mPV\u001b[0m\u001b[1;33m,\u001b[0m \u001b[1;36m2\u001b[0m\u001b[1;33m)\u001b[0m\u001b[1;33m\u001b[0m\u001b[1;33m\u001b[0m\u001b[0m\n\u001b[1;32m---> 30\u001b[1;33m             \u001b[0mper\u001b[0m \u001b[1;33m+=\u001b[0m\u001b[1;36m1\u001b[0m\u001b[1;33m\u001b[0m\u001b[1;33m\u001b[0m\u001b[0m\n\u001b[0m\u001b[0;32m     31\u001b[0m     \u001b[0mEY\u001b[0m \u001b[1;33m=\u001b[0m \u001b[1;33m(\u001b[0m\u001b[1;33m(\u001b[0m\u001b[1;36m1\u001b[0m \u001b[1;33m+\u001b[0m \u001b[0mytm_guess\u001b[0m\u001b[1;33m/\u001b[0m\u001b[0mfreq\u001b[0m\u001b[1;33m)\u001b[0m\u001b[1;33m**\u001b[0m\u001b[0mfreq\u001b[0m\u001b[1;33m)\u001b[0m \u001b[1;33m-\u001b[0m \u001b[1;36m1\u001b[0m\u001b[1;33m\u001b[0m\u001b[1;33m\u001b[0m\u001b[0m\n\u001b[0;32m     32\u001b[0m \u001b[1;33m\u001b[0m\u001b[0m\n",
      "\u001b[1;31mKeyboardInterrupt\u001b[0m: "
     ]
    }
   ],
   "source": [
    "# Bad Code... Takes to long to calc\n",
    "\n",
    "FV = 1000\n",
    "bondprice = FV * 1.05\n",
    "coupon = .078\n",
    "nper = 20\n",
    "freq = 2\n",
    "\n",
    "def pvguess(nper, coupon, freq, bondprice, FV):\n",
    "    ytm_guess = coupon\n",
    "    cash_flows = np.empty(nper)\n",
    "    cash_flows.fill(FV*coupon/freq)\n",
    "    cash_flows[-1] += FV\n",
    "    per = 1\n",
    "    PV = 0\n",
    "    tolerance = 10**-2\n",
    "    for i in cash_flows:\n",
    "        PV += i/(1+ytm_guess/freq)**per\n",
    "        per +=1\n",
    "    while abs(PV - bondprice) > tolerance:\n",
    "        if PV < bondprice:\n",
    "            ytm_guess -= 0.000005\n",
    "        else:\n",
    "            ytm_guess += 0.000005\n",
    "        PV = 0\n",
    "        per = 1\n",
    "        for i in cash_flows:\n",
    "            PV += i/(1+ytm_guess/freq)**per\n",
    "            PV = round(PV, 2)\n",
    "            per +=1\n",
    "    EY = ((1 + ytm_guess/freq)**freq) - 1\n",
    " \n",
    "    print(f\"The Yield to Maturity of the bond is: {ytm_guess*100 :,.2f}%\") \n",
    "    print(f\"The Effective Yield of the bond is: {EY*100 :,.2f}%\")\n",
    "\n",
    "pvguess(nper, coupon, freq, bondprice, FV)"
   ]
  },
  {
   "cell_type": "code",
   "execution_count": 56,
   "metadata": {},
   "outputs": [
    {
     "name": "stdout",
     "output_type": "stream",
     "text": [
      "The Yield to Maturity of the bond is: 7.09%\n",
      "The Effective Yield of the bond is: 7.22%\n"
     ]
    }
   ],
   "source": [
    "import numpy as np\n",
    "\n",
    "FV = 1000\n",
    "bondprice = FV * 1.05\n",
    "coupon = .078\n",
    "nper = 20\n",
    "freq = 2\n",
    "\n",
    "def present_value(FV, coupon, nper, freq, bondprice):\n",
    "    cash_flows = np.empty(nper)\n",
    "    cash_flows.fill(FV*coupon/freq)\n",
    "    cash_flows[-1] += FV\n",
    "    ytm_guess = coupon\n",
    "    lowerbound = 0.0\n",
    "    upperbound = .99\n",
    "    per = 1\n",
    "    pv_guess = 0\n",
    "    tolerance = 10**-6\n",
    "    for i in cash_flows:\n",
    "        pv_guess += i/(1+ytm_guess/freq)**per\n",
    "        per +=1\n",
    "    while abs(pv_guess - bondprice) > tolerance:\n",
    "        if pv_guess < bondprice:\n",
    "            upperbound = ytm_guess\n",
    "            ytm_guess = (upperbound + lowerbound)/2\n",
    "        elif pv_guess > bondprice:\n",
    "            lowerbound = ytm_guess\n",
    "            ytm_guess = (lowerbound + upperbound)/2\n",
    "        pv_guess = 0\n",
    "        per = 1\n",
    "        for i in cash_flows:\n",
    "            pv_guess += i/(1+ytm_guess/freq)**per\n",
    "            per +=1\n",
    "            \n",
    "    EY = (1 + ytm_guess/freq)**freq - 1\n",
    "    \n",
    "    print(f\"The Yield to Maturity of the bond is: {ytm_guess*100 :,.2f}%\") \n",
    "    print(f\"The Effective Yield of the bond is: {EY*100 :,.2f}%\")\n",
    "\n",
    "present_value(FV, coupon, nper, freq, bondprice)"
   ]
  },
  {
   "cell_type": "code",
   "execution_count": 2,
   "metadata": {},
   "outputs": [
    {
     "name": "stdout",
     "output_type": "stream",
     "text": [
      "198.99588626559085 0.535\n",
      "393.1454749736264 0.3075\n",
      "606.4669798595991 0.19375\n",
      "772.2369312986702 0.136875\n",
      "876.9213462341971 0.10843749999999999\n",
      "935.9478298322058 0.09421874999999999\n",
      "905.8347311988186 0.10132812499999999\n",
      "920.7378818357151 0.09777343749999999\n",
      "913.2483928165807 0.09955078125\n",
      "909.5321374889162 0.100439453125\n",
      "911.3879023108551 0.0999951171875\n",
      "910.4594300300623 0.10021728515625\n",
      "910.9235185980233 0.10010620117187499\n",
      "911.1556735481981 0.1000506591796875\n",
      "911.2717787013246 0.10002288818359376\n",
      "911.3298381988341 0.10000900268554688\n",
      "911.3588696780059 0.10000205993652345\n",
      "911.3733858502164 0.09999858856201171\n",
      "911.3661277280582 0.10000032424926758\n",
      "911.369756780125 0.09999945640563965\n",
      "911.3715713129164 0.09999902248382568\n",
      "911.3706640459566 0.09999923944473266\n",
      "911.3702104129009 0.09999934792518615\n",
      "911.3699835964768 0.09999940216541289\n",
      "911.3700970046791 0.09999937504529952\n",
      "911.3700403005757 0.0999993886053562\n",
      "911.3700119485268 0.09999939538538455\n",
      "911.3699977725007 0.09999939877539872\n",
      "911.3700048605136 0.09999939708039163\n",
      "911.370001316508 0.09999939792789517\n",
      "911.3699995445033 0.09999939835164695\n",
      "The Yield to Maturity of the bond is: 10.00%\n",
      "The Effective Yield of the bond is: 10.25%\n"
     ]
    }
   ],
   "source": [
    "import numpy as np\n",
    "\n",
    "FV = 1000\n",
    "coupon = .08\n",
    "years_to_maturity = 6\n",
    "freq = 2\n",
    "bondprice = 911.37\n",
    "\n",
    "def present_value(FV, coupon, years_to_maturity, freq, bondprice):\n",
    "    ytm_guess = coupon\n",
    "    cash_flow = np.full(years_to_maturity*freq, FV*coupon/freq)\n",
    "    cash_flow[-1] += FV\n",
    "    discount = np.array([1/((1 + ytm_guess/freq)**i) for i in range (1, cash_flow.shape[0] + 1)])\n",
    "    pv_guess = np.sum(cash_flow * discount)\n",
    "    lowerbound = 0.0\n",
    "    upperbound = .99\n",
    "    tolerance = 10**-6\n",
    "    while abs(pv_guess - bondprice) > tolerance:\n",
    "        if pv_guess < bondprice:\n",
    "            upperbound = ytm_guess\n",
    "            ytm_guess = (upperbound + lowerbound)/2\n",
    "        else:\n",
    "            lowerbound = ytm_guess\n",
    "            ytm_guess = (lowerbound + upperbound)/2\n",
    "        discount = 0\n",
    "        discount = np.array([1/((1 + ytm_guess/freq)**i) for i in range (1, cash_flow.shape[0] + 1)])\n",
    "        pv_guess = np.sum(cash_flow * discount)\n",
    "        print(pv_guess, ytm_guess)\n",
    "        \n",
    "    EY = (1 + ytm_guess/freq)**freq - 1\n",
    "    \n",
    "    print(f\"The Yield to Maturity of the bond is: {ytm_guess*100 :,.2f}%\") \n",
    "    print(f\"The Effective Yield of the bond is: {EY*100 :,.2f}%\")\n",
    "present_value(FV, coupon, years_to_maturity, freq, bondprice)"
   ]
  },
  {
   "cell_type": "code",
   "execution_count": 38,
   "metadata": {},
   "outputs": [],
   "source": [
    "import numpy as np"
   ]
  },
  {
   "cell_type": "code",
   "execution_count": 16,
   "metadata": {},
   "outputs": [
    {
     "data": {
      "text/plain": [
       "911.3674836355117"
      ]
     },
     "execution_count": 16,
     "metadata": {},
     "output_type": "execute_result"
    }
   ],
   "source": [
    "# Scratch Paper...\n",
    "\n",
    "def bond_factory(face: float, coupon: float, frequency: int, maturity: int) -> np.ndarray:\n",
    "    the_bond = np.full(maturity * frequency, (coupon  * face) / frequency)\n",
    "    the_bond[-1] += face\n",
    "    return the_bond\n",
    "def bond_price(rate: float, the_bond: np.ndarray) -> float:\n",
    "    disc = np.array([1.0 / ((1.0 + rate/frequency) ** i) for i in range(1, the_bond.shape[0] + 1)])\n",
    "    return np.sum(disc * the_bond)\n",
    "\n",
    "face = 1000\n",
    "coupon = .08\n",
    "frequency = 2\n",
    "maturity = 6\n",
    "rate = .1\n",
    "\n",
    "bond_price(rate, bond_factory(face, coupon, frequency, maturity))\n"
   ]
  },
  {
   "cell_type": "code",
   "execution_count": 50,
   "metadata": {},
   "outputs": [
    {
     "name": "stdout",
     "output_type": "stream",
     "text": [
      "[  40.   40.   40.   40.   40.   40.   40.   40.   40.   40.   40. 1040.]\n"
     ]
    },
    {
     "data": {
      "text/plain": [
       "943.8509050234642"
      ]
     },
     "execution_count": 50,
     "metadata": {},
     "output_type": "execute_result"
    }
   ],
   "source": [
    "# Scratch paper...\n",
    "\n",
    "FV = 1000\n",
    "coupon = .08\n",
    "years_to_maturity = 6\n",
    "freq = 2\n",
    "bondprice = 911.37\n",
    "\n",
    "ytm_guess = .0924\n",
    "cash_flow = np.full(years_to_maturity*freq, FV*coupon/freq)\n",
    "cash_flow[-1] += FV\n",
    "discount = np.array([1/((1 + ytm_guess/freq)**i) for i in range (1, cash_flow.shape[0] + 1)])\n",
    "pv_guess = np.sum(cash_flow * discount)\n",
    "print(cash_flow)\n",
    "np.sum(pv_guess)"
   ]
  },
  {
   "cell_type": "markdown",
   "metadata": {},
   "source": [
    "## Additional Problems\n",
    "### P1"
   ]
  },
  {
   "cell_type": "code",
   "execution_count": 54,
   "metadata": {},
   "outputs": [
    {
     "data": {
      "text/plain": [
       "613.9132535407591"
      ]
     },
     "execution_count": 54,
     "metadata": {},
     "output_type": "execute_result"
    }
   ],
   "source": [
    "FV = 1000\n",
    "coupon = .0\n",
    "years_to_maturity = 10\n",
    "freq = 1\n",
    "ytm_guess = .05\n",
    "\n",
    "def bond_price(FV, coupon, years_to_maturity, freq, ytm):\n",
    "    cash_flow = np.full(years_to_maturity*freq, FV*coupon/freq)\n",
    "    cash_flow[-1] += FV\n",
    "    discount = np.array([1/((1 + ytm_guess/freq)**i) for i in range (1, cash_flow.shape[0] + 1)])\n",
    "    pv_guess = np.sum(cash_flow * discount)\n",
    "    return np.sum(pv_guess)\n",
    "\n",
    "bond_price(FV, coupon, years_to_maturity, freq, ytm_guess)"
   ]
  },
  {
   "cell_type": "code",
   "execution_count": null,
   "metadata": {},
   "outputs": [],
   "source": []
  }
 ],
 "metadata": {
  "kernelspec": {
   "display_name": "Python 3",
   "language": "python",
   "name": "python3"
  },
  "language_info": {
   "codemirror_mode": {
    "name": "ipython",
    "version": 3
   },
   "file_extension": ".py",
   "mimetype": "text/x-python",
   "name": "python",
   "nbconvert_exporter": "python",
   "pygments_lexer": "ipython3",
   "version": "3.8.3"
  }
 },
 "nbformat": 4,
 "nbformat_minor": 4
}
