{
 "cells": [
  {
   "cell_type": "markdown",
   "metadata": {},
   "source": [
    "## Q1\n",
    "\n",
    "for loop running through a final equation <br>\n",
    "equation = a*6 + b*9 + c*20 * <br>\n",
    "create a library for sizes * <br>\n",
    "while loop for the count * <br>\n",
    "    \n",
    "variables: <br>\n",
    "    x, y, z, sm, md, lg * <br>\n",
    "    test number * <br>\n",
    "    count of consecutive \"good\"s * <br>\n",
    "    highest number * <br>"
   ]
  },
  {
   "cell_type": "code",
   "execution_count": 7,
   "metadata": {},
   "outputs": [
    {
     "name": "stdout",
     "output_type": "stream",
     "text": [
      "The most nuggets you cannot buy is 43 .\n"
     ]
    }
   ],
   "source": [
    "def nuggets(test, size):\n",
    "    for x in range(test//size[\"sm\"] + 1):\n",
    "        for y in range(test//size['md'] + 1):\n",
    "            for z in range(test//size['lg'] + 1):\n",
    "                if test == x*size['sm'] + y*size['md'] + z*size['lg']:\n",
    "                    return True\n",
    "    return False\n",
    "\n",
    "def main():\n",
    "    size = {'sm': 6, 'md': 9, 'lg': 20}\n",
    "    test = size['sm']\n",
    "    count = 0\n",
    "    \n",
    "    while count < size['sm']:\n",
    "        if nuggets(test, size):\n",
    "            count +=1\n",
    "        else:\n",
    "            count = 0\n",
    "            high = test\n",
    "        test += 1\n",
    "    print(\"The most nuggets you cannot buy is\", high, \".\")\n",
    "        \n",
    "if __name__ == \"__main__\":\n",
    "    main()"
   ]
  },
  {
   "cell_type": "markdown",
   "metadata": {},
   "source": [
    "## Q2\n",
    "\n",
    "I lost my code of breaking down the problem into smaller pieces"
   ]
  },
  {
   "cell_type": "code",
   "execution_count": 27,
   "metadata": {},
   "outputs": [
    {
     "name": "stdout",
     "output_type": "stream",
     "text": [
      "Welcome to 'Guess Your Number'!\n"
     ]
    },
    {
     "name": "stdin",
     "output_type": "stream",
     "text": [
      "Please enter the lower bound for the game. e.g. 1 1\n",
      "Please enter the upper bound for the game. e.g. 100 100\n"
     ]
    },
    {
     "name": "stdout",
     "output_type": "stream",
     "text": [
      "Now think of a number between  1  and  100 .\n",
      "I will try to guess your number in as few attempts as possible.\n"
     ]
    },
    {
     "name": "stdin",
     "output_type": "stream",
     "text": [
      "Press enter when you have chosen your number \n"
     ]
    },
    {
     "name": "stdout",
     "output_type": "stream",
     "text": [
      "Is your number  50 ?\n"
     ]
    },
    {
     "name": "stdin",
     "output_type": "stream",
     "text": [
      "'higher', 'lower', or 'yes' higher\n"
     ]
    },
    {
     "name": "stdout",
     "output_type": "stream",
     "text": [
      "Is your number  75 ?\n"
     ]
    },
    {
     "name": "stdin",
     "output_type": "stream",
     "text": [
      "'higher', 'lower', or 'yes' lower\n"
     ]
    },
    {
     "name": "stdout",
     "output_type": "stream",
     "text": [
      "Is your number  62 ?\n"
     ]
    },
    {
     "name": "stdin",
     "output_type": "stream",
     "text": [
      "'higher', 'lower', or 'yes' hi\n"
     ]
    },
    {
     "name": "stdout",
     "output_type": "stream",
     "text": [
      "What?\n",
      "Is your number  62 ?\n"
     ]
    },
    {
     "name": "stdin",
     "output_type": "stream",
     "text": [
      "'higher', 'lower', or 'yes' yes\n"
     ]
    },
    {
     "name": "stdout",
     "output_type": "stream",
     "text": [
      "I guessed it! Your number was 62\n",
      "And it only took me 3 tries!\n",
      "\n"
     ]
    }
   ],
   "source": [
    "def footer(guess, tries):\n",
    "    print(\"I guessed it! Your number was\", guess)\n",
    "    print(\"And it only took me\", tries, \"tries!\\n\")\n",
    "        \n",
    "def main():\n",
    "    print(\"Welcome to 'Guess Your Number'!\")\n",
    "    low = int(input(\"Please enter the lower bound for the game. e.g. 1\"))\n",
    "    high = int(input(\"Please enter the upper bound for the game. e.g. 100\"))\n",
    "    print(\"Now think of a number between \", low, \" and \", high,\".\")\n",
    "    print(\"I will try to guess your number in as few attempts as possible.\")\n",
    "    input(\"Press enter when you have chosen your number\")\n",
    "    \n",
    "    guess = (low + high)//2\n",
    "    tries = 1\n",
    "    \n",
    "    print(\"Is your number \", guess, \"?\" )\n",
    "    user = input(\"'higher', 'lower', or 'yes'\")\n",
    "    while user != \"yes\":\n",
    "        if user == 'higher':\n",
    "            low = guess\n",
    "            tries += 1\n",
    "        elif user == 'lower':\n",
    "            high = guess\n",
    "            tries += 1  \n",
    "        else:\n",
    "            print(\"What?\")\n",
    "        guess = (low + high)//2\n",
    "        print(\"Is your number \", guess, \"?\" )\n",
    "        user = input(\"'higher', 'lower', or 'yes'\")\n",
    "    \n",
    "    footer(guess, tries)\n",
    "    \n",
    "    \n",
    "if __name__ == \"__main__\":\n",
    "    main()"
   ]
  },
  {
   "cell_type": "markdown",
   "metadata": {},
   "source": [
    "## Q3\n",
    "\n",
    "variables: <br>\n",
    "    FV<br>\n",
    "    nper<br>\n",
    "    coupon<br>\n",
    "    freq<br>\n",
    "    YTM<br>\n",
    "    cash_flows<br>\n",
    "    \n",
    "Functions:<br>\n",
    "    bond calc<br>\n",
    "    loop for discounting CFs<br>\n",
    "    "
   ]
  },
  {
   "cell_type": "code",
   "execution_count": 3,
   "metadata": {},
   "outputs": [
    {
     "data": {
      "text/plain": [
       "array([  50.,   50.,   50.,   50.,   50.,   50.,   50.,   50.,   50.,\n",
       "         50.,   50.,   50.,   50.,   50.,   50.,   50.,   50.,   50.,\n",
       "         50.,   50.,   50.,   50.,   50.,   50.,   50.,   50.,   50.,\n",
       "         50.,   50.,   50.,   50.,   50.,   50.,   50.,   50.,   50.,\n",
       "         50.,   50.,   50., 1050.])"
      ]
     },
     "execution_count": 3,
     "metadata": {},
     "output_type": "execute_result"
    }
   ],
   "source": [
    "## Here is how to set up the bond's cash flows\n",
    "import numpy as np\n",
    "cash_flows = np.empty(40)\n",
    "cash_flows.fill(50.0)\n",
    "cash_flows[-1] += 1000.0\n",
    "cash_flows"
   ]
  },
  {
   "cell_type": "code",
   "execution_count": null,
   "metadata": {},
   "outputs": [],
   "source": [
    "rate = 0.06\n",
    "price = present_value(rate, cash_flows)\n",
    "print(f\"The price of the bond is: ${price :,.2f}\")"
   ]
  },
  {
   "cell_type": "code",
   "execution_count": 8,
   "metadata": {},
   "outputs": [
    {
     "name": "stdout",
     "output_type": "stream",
     "text": [
      "The price of the bond is: $849.537031\n"
     ]
    }
   ],
   "source": [
    "def present_value():\n",
    "    FV = 1000\n",
    "    nper = 40\n",
    "    coupon = .1\n",
    "    freq = 2\n",
    "    YTM = .12\n",
    "    cash_flows = np.empty(nper)\n",
    "    cash_flows.fill(FV*coupon/freq)\n",
    "    cash_flows[-1] += FV\n",
    "    per = 1\n",
    "    PV = 0\n",
    "    for i in cash_flows:\n",
    "        PV += i/(1+YTM/freq)**per\n",
    "        per +=1\n",
    "    \n",
    "    print(f\"The price of the bond is: ${PV :,.6f}\")        \n",
    "present_value()"
   ]
  },
  {
   "cell_type": "code",
   "execution_count": null,
   "metadata": {},
   "outputs": [],
   "source": [
    "def AnyBondPrice (FV, CouponRate, CouponFreq, YTM, Periods):\n",
    "    import datetime\n",
    "    Coupon1 = CouponRate * FV / CouponFreq\n",
    "    NextCoupon = datetime.date(int(input('enter the next coupon year, ex: 2020 -')), int(input('enter the next coupon month, ex: 06 -')), int(input('enter the next coupon day, ex: 15 -')))\n",
    "    LastCoupon = datetime.date(int(input('enter the last coupon year, ex: 2020 -')), int(input('enter the last coupon month, ex: 06 -')), int(input('enter the last coupon day, ex: 15 -')))\n",
    "    SettlementDate = datetime.date(int(input('enter the settlement year, ex: 2020 -')), int(input('enter the settlement month, ex: 06 -')), int(input('enter the settlement day, ex: 15 -')))\n",
    "    RemainingDays = NextCoupon - SettlementDate\n",
    "    TotDays = NextCoupon - LastCoupon\n",
    "    FractionalPeriod = RemainingDays / TotDays\n",
    "    ElapsedDays = SettlementDate - LastCoupon\n",
    "    PresentValueCF = 0\n",
    "    for i in range (Periods + 1):\n",
    "        PresentValueCF += Coupon1 / (1 + YTM / CouponFreq)**(FractionalPeriod + i)\n",
    "    FullPrice = PresentValueCF + FV / (1 + YTM / CouponFreq)**(FractionalPeriod + Periods)\n",
    "    AccruedInt = ElapsedDays / TotDays * Coupon1\n",
    "    FlatPrice = FullPrice - AccruedInt\n",
    "    print('The full (dirty) price =', round(FullPrice, 2))\n",
    "    print('The accrued interest for this period =', round(AccruedInt, 2))\n",
    "    print('The flat (Clean) price =', round(FlatPrice, 2))"
   ]
  },
  {
   "cell_type": "code",
   "execution_count": null,
   "metadata": {},
   "outputs": [],
   "source": [
    "question 4 below"
   ]
  },
  {
   "cell_type": "code",
   "execution_count": 21,
   "metadata": {},
   "outputs": [
    {
     "name": "stdout",
     "output_type": "stream",
     "text": [
      "The Yield to Maturity of the bond is: 11.11%\n",
      "The Effective Yield of the bond is: 11.42%\n"
     ]
    }
   ],
   "source": [
    "FV = 1000\n",
    "bondprice = 911.37\n",
    "coupon = .1\n",
    "nper = 40\n",
    "freq = 2\n",
    "ytm_guess = .18   \n",
    "\n",
    "def pvguess(ytm_guess, nper, coupon, freq, bondprice, FV):\n",
    "    cash_flows = np.empty(nper)\n",
    "    cash_flows.fill(FV*coupon/freq)\n",
    "    cash_flows[-1] += FV\n",
    "    per = 1\n",
    "    PV = 0\n",
    "    tolerance = 10**-4\n",
    "    for i in cash_flows:\n",
    "        PV += i/(1+ytm_guess/freq)**per\n",
    "        per +=1\n",
    "    while abs(PV - bondprice) > tolerance:\n",
    "        if PV < bondprice:\n",
    "            ytm_guess -= 0.000005\n",
    "        else:\n",
    "            ytm_guess += 0.000005\n",
    "        PV = 0\n",
    "        per = 1\n",
    "        for i in cash_flows:\n",
    "            PV += i/(1+ytm_guess/freq)**per\n",
    "            PV = round(PV, 2)\n",
    "            per +=1\n",
    "    EY = ((1 + ytm_guess/freq)**freq) - 1\n",
    " \n",
    "    print(f\"The Yield to Maturity of the bond is: {ytm_guess*100 :,.2f}%\") \n",
    "    print(f\"The Effective Yield of the bond is: {EY*100 :,.2f}%\")\n",
    "\n",
    "pvguess(ytm_guess, nper, coupon, freq, bondprice, FV)"
   ]
  },
  {
   "cell_type": "code",
   "execution_count": null,
   "metadata": {},
   "outputs": [],
   "source": [
    "variables \n",
    "    - ytm(guess) and correct answer - needs function\n",
    "    - effective annual yield - function\n",
    "    - guessed price based on ytm guess(will be used to see if we need to increase or decrease our guess) - needs a function\n",
    "    - given price\n",
    "    - coupon\n",
    "    - face value\n",
    "    \n",
    "    \n",
    "    \n",
    "Functions\n",
    "    - guesser (while loop) changes our ytm guess\n",
    "    - bond value - based on ytm\n",
    "    - effective yield - calculated once we get the right ytm\n",
    "\n",
    "When our bond value guess is less than our bond value === the ytm is too high\n",
    "when our bond value guess is greater than our bond value === the ytm is too low\n"
   ]
  }
 ],
 "metadata": {
  "kernelspec": {
   "display_name": "Python 3",
   "language": "python",
   "name": "python3"
  },
  "language_info": {
   "codemirror_mode": {
    "name": "ipython",
    "version": 3
   },
   "file_extension": ".py",
   "mimetype": "text/x-python",
   "name": "python",
   "nbconvert_exporter": "python",
   "pygments_lexer": "ipython3",
   "version": "3.8.3"
  }
 },
 "nbformat": 4,
 "nbformat_minor": 4
}
