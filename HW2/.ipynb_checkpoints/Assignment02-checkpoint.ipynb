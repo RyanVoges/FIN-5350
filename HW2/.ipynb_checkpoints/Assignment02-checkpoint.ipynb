{
 "cells": [
  {
   "cell_type": "markdown",
   "metadata": {},
   "source": [
    "## Finance 5350: Computational Financial Modeling\n",
    "### Homework 2: Binary Search & Bond Yields\n",
    "\n",
    "<br>\n",
    "\n",
    "**Due Date:** TBA\n",
    "\n",
    "<br>"
   ]
  },
  {
   "cell_type": "code",
   "execution_count": null,
   "metadata": {},
   "outputs": [],
   "source": [
    "import numpy as np"
   ]
  },
  {
   "cell_type": "markdown",
   "metadata": {},
   "source": [
    "#### __Problem 1 - The Nuggets Problem__"
   ]
  },
  {
   "cell_type": "markdown",
   "metadata": {},
   "source": [
    "This problem is known as the *chicken nuggets* problem. It goes like this: you walk into Chick Fil-A with an unlimited amount of money (and appetite!). You can purchase nuggets in containers of 6, 9, and 20.\n",
    "\n",
    "Write a program to tell you the ***highest*** number of nuggets that you ***cannot*** purchase! Re-read that just in case it slipped past you the first time. The highest number that you cannot get. For example, you ___can___ get 15 nuggets by purchasing a box of 6 and a box of 9 nuggets. You can get 18 by purchasing 2 boxes of 9 nuggets. But you cannot purchase 17 nuggets with any combination of 6, 9, and 20. ___What is the highest number that you cannot get?!___\n",
    "\n",
    "This simple game will give you experience assembling different bits of `Python` programming to find the solution. It will also employ a very simple numerical method called [__brute-force search__](https://en.wikipedia.org/wiki/Brute-force_search#:~:text=In%20computer%20science%2C%20brute%2Dforce,candidate%20satisfies%20the%20problem's%20statement.). \n",
    "\n",
    "Please write your solution in the code cell below:"
   ]
  },
  {
   "cell_type": "code",
   "execution_count": 18,
   "metadata": {},
   "outputs": [
    {
     "name": "stdout",
     "output_type": "stream",
     "text": [
      "The most nuggets you cannot buy is 43 .\n"
     ]
    }
   ],
   "source": [
    "def nuggets(test, size):\n",
    "    for x in range(test//size[\"sm\"] + 1):\n",
    "        for y in range(test//size['md'] + 1):\n",
    "            for z in range(test//size['lg'] + 1):\n",
    "                if test == x*size['sm'] + y*size['md'] + z*size['lg']:\n",
    "                    return True\n",
    "    return False\n",
    "\n",
    "def main():\n",
    "    size = {'sm': 6, 'md': 9, 'lg': 20}\n",
    "    test = size['sm']\n",
    "    count = 0\n",
    "    \n",
    "    while count < size['sm']:\n",
    "        if nuggets(test, size):\n",
    "            count +=1\n",
    "        else:\n",
    "            count = 0\n",
    "            high = test\n",
    "        test += 1\n",
    "    print(\"The most nuggets you cannot buy is\", high, \".\")\n",
    "        \n",
    "if __name__ == \"__main__\":\n",
    "    main()"
   ]
  },
  {
   "cell_type": "markdown",
   "metadata": {},
   "source": [
    "#### __Problem 2 - The Guess My Number Game (Binary Search)__"
   ]
  },
  {
   "cell_type": "markdown",
   "metadata": {},
   "source": [
    "In the book **[Python Programming for the Absolute Beginner, 3rd Edition](http://goo.gl/7PGr9r)** the author teaches `Python` through some simple game programming. One of the first games that he shows how to write is the so-called ***Guess My Number*** game, which is the children's game of guessing some one's secret number (a number between 1 and 100). \n",
    "\n",
    "An implementation of the game in `Python` might look something like this:"
   ]
  },
  {
   "cell_type": "code",
   "execution_count": null,
   "metadata": {},
   "outputs": [],
   "source": [
    "import numpy as np\n",
    "\n",
    "def print_header():\n",
    "    print(\"\\tWelcome to 'Guess My Number'!\")\n",
    "    print(\"\\tI'm thinking of a number between 1 and 100.\")\n",
    "    print(\"\\tTry to guess it in as few attempts as possible.\\n\")\n",
    "\n",
    "\n",
    "def print_footer(the_number, tries):\n",
    "    print(\"You guessed it! The number was\", the_number)\n",
    "    print(\"And it only took you\", tries, \"tries!\\n\")\n",
    "    print(\"\\n\\nPress the enter key to exit.\")    \n",
    "    \n",
    "def main():\n",
    "    # print the greeting banner\n",
    "    print_header()\n",
    "    \n",
    "    # set the initial values\n",
    "    the_number = np.random.randint(low=1, high=101, size=1)[0]\n",
    "    guess = int(input(\"Take a guess: \"))\n",
    "    tries = 1\n",
    "    \n",
    "    # the game loop\n",
    "    while guess != the_number:\n",
    "        if guess > the_number:\n",
    "            print(\"Lower ...\")\n",
    "        else:\n",
    "            print(\"Higher...\")\n",
    "            \n",
    "        guess = int(input(\"Take a guess: \"))\n",
    "        tries += 1\n",
    "        \n",
    "    print_footer(the_number, tries)\n",
    "    \n",
    "    \n",
    "if __name__ == \"__main__\":\n",
    "    main()"
   ]
  },
  {
   "cell_type": "markdown",
   "metadata": {},
   "source": [
    "Your task in this problem is to now write a version of the *Guess My Number* game where you and the computer switch roles! That is right: you think of a number and the computer must guess it in as few attempts as possible. You will need to encode your guessing logic to the program solution.\n",
    "\n",
    "This might seem like silly game play, but in order to solve the problem you must use an algorithm called [**binary search**](https://en.wikipedia.org/wiki/Binary_search_algorithm) or the **bisection method** to solve the problem correctly. This is our first attempt at programming a simple algorithm. We will see this algorithm later in the context of the ***Black-Scholes-Merton Option Pricing Model*** to calculate the implied volatility of the model. This is something that options traders do thousands and thousands of times a day!\n",
    "\n",
    "Please use the code cell below to write your solution:"
   ]
  },
  {
   "cell_type": "code",
   "execution_count": 19,
   "metadata": {},
   "outputs": [
    {
     "name": "stdout",
     "output_type": "stream",
     "text": [
      "Welcome to 'Guess Your Number'!\n"
     ]
    },
    {
     "name": "stdin",
     "output_type": "stream",
     "text": [
      "Please enter the lower bound for the game. e.g. 1 1\n",
      "Please enter the upper bound for the game. e.g. 100 200\n"
     ]
    },
    {
     "name": "stdout",
     "output_type": "stream",
     "text": [
      "Now think of a number between  1  and  200 .\n",
      "I will try to guess your number in as few attempts as possible.\n"
     ]
    },
    {
     "name": "stdin",
     "output_type": "stream",
     "text": [
      "Press enter when you have chosen your number \n"
     ]
    },
    {
     "name": "stdout",
     "output_type": "stream",
     "text": [
      "Is your number  100 ?\n"
     ]
    },
    {
     "name": "stdin",
     "output_type": "stream",
     "text": [
      "'higher', 'lower', or 'yes' lower\n"
     ]
    },
    {
     "name": "stdout",
     "output_type": "stream",
     "text": [
      "Is your number  50 ?\n"
     ]
    },
    {
     "name": "stdin",
     "output_type": "stream",
     "text": [
      "'higher', 'lower', or 'yes' lower\n"
     ]
    },
    {
     "name": "stdout",
     "output_type": "stream",
     "text": [
      "Is your number  25 ?\n"
     ]
    },
    {
     "name": "stdin",
     "output_type": "stream",
     "text": [
      "'higher', 'lower', or 'yes' lower\n"
     ]
    },
    {
     "name": "stdout",
     "output_type": "stream",
     "text": [
      "Is your number  13 ?\n"
     ]
    },
    {
     "name": "stdin",
     "output_type": "stream",
     "text": [
      "'higher', 'lower', or 'yes' lower\n"
     ]
    },
    {
     "name": "stdout",
     "output_type": "stream",
     "text": [
      "Is your number  7 ?\n"
     ]
    },
    {
     "name": "stdin",
     "output_type": "stream",
     "text": [
      "'higher', 'lower', or 'yes' higher\n"
     ]
    },
    {
     "name": "stdout",
     "output_type": "stream",
     "text": [
      "Is your number  10 ?\n"
     ]
    },
    {
     "name": "stdin",
     "output_type": "stream",
     "text": [
      "'higher', 'lower', or 'yes' lower\n"
     ]
    },
    {
     "name": "stdout",
     "output_type": "stream",
     "text": [
      "Is your number  8 ?\n"
     ]
    },
    {
     "name": "stdin",
     "output_type": "stream",
     "text": [
      "'higher', 'lower', or 'yes' higher\n"
     ]
    },
    {
     "name": "stdout",
     "output_type": "stream",
     "text": [
      "Is your number  9 ?\n"
     ]
    },
    {
     "name": "stdin",
     "output_type": "stream",
     "text": [
      "'higher', 'lower', or 'yes' yes\n"
     ]
    },
    {
     "name": "stdout",
     "output_type": "stream",
     "text": [
      "I guessed it! Your number was 9\n",
      "And it only took me 8 tries!\n",
      "\n"
     ]
    }
   ],
   "source": [
    "def footer(guess, tries):\n",
    "    print(\"I guessed it! Your number was\", guess)\n",
    "    print(\"And it only took me\", tries, \"tries!\\n\")\n",
    "        \n",
    "def main():\n",
    "    print(\"Welcome to 'Guess Your Number'!\")\n",
    "    low = int(input(\"Please enter the lower bound for the game. e.g. 1\"))\n",
    "    high = int(input(\"Please enter the upper bound for the game. e.g. 100\"))\n",
    "    print(\"Now think of a number between \", low, \" and \", high,\".\")\n",
    "    print(\"I will try to guess your number in as few attempts as possible.\")\n",
    "    input(\"Press enter when you have chosen your number\")\n",
    "    \n",
    "    guess = (low + high)//2\n",
    "    tries = 1\n",
    "    \n",
    "    print(\"Is your number \", guess, \"?\" )\n",
    "    user = input(\"'higher', 'lower', or 'yes'\")\n",
    "    while user != \"yes\":\n",
    "        if user == 'higher':\n",
    "            low = guess\n",
    "            tries += 1\n",
    "        elif user == 'lower':\n",
    "            high = guess\n",
    "            tries += 1  \n",
    "        else:\n",
    "            print(\"What?\")\n",
    "        guess = (low + high)//2\n",
    "        print(\"Is your number \", guess, \"?\" )\n",
    "        user = input(\"'higher', 'lower', or 'yes'\")\n",
    "    \n",
    "    footer(guess, tries)\n",
    "    \n",
    "    \n",
    "if __name__ == \"__main__\":\n",
    "    main()"
   ]
  },
  {
   "cell_type": "markdown",
   "metadata": {},
   "source": [
    "#### __Problem 3 - Bond Prices & Net Present Value__"
   ]
  },
  {
   "cell_type": "markdown",
   "metadata": {},
   "source": [
    "This problem comes from _Chapter 7: Interest Rates and Bond Valuation_ from the textbook _Fundamentals of Corporate Finance 12ed_ by Ross, Westerfield, and Jordan. \n",
    "\n",
    "<br>\n",
    "\n",
    "__The Problem Statement:__\n",
    "\n",
    "<br>\n",
    "\n",
    "A corporate coupon bond has a $10$ percent coupon rate and a $\\$1,000$ face value. Interest is paid semiannually, and the bond has $20$ years to maturity. If investors require a $12$ percent yield, what is the bond's value? What is the effective annual yield on the bond? \n",
    "\n",
    "<br>\n",
    "\n",
    "__The Problem Solution__\n",
    "\n",
    "<br>\n",
    "\n",
    "Because the bond has a $10$ percent coupon rate and investors require a $12$ precent yield, we know that the bond must sell at a discount. Notice that, because the bond pays interest seminannually, the coupons amount to $\\$100/2 = \\$50$ every six months. The required yield is $12\\% / 2 = 6\\%$ every six months. Finally, the bond matures in $20$ years, so there are a total of $40$ six-month periods. \n",
    "\n",
    "The bond's value is thus equal to the present value of $\\$50$ every six months for the next $40$ six-month periods plus the present value of the $\\$1,000$ face value amount: \n",
    "\n",
    "$$\n",
    "\\begin{aligned}\n",
    "\\mbox{Bond value} &= \\$50 \\times [(1 - 1/1.06^{40})/.06)] + 1,000/1.06^{40} \\\\\n",
    "                  &= \\$50 \\times 15.0463 + 1,000/10.2857 \\\\\n",
    "                  &= \\$849.54\n",
    "\\end{aligned}\n",
    "$$\n",
    "\n",
    "<br>\n",
    "\n",
    "Notice that we discounted the $\\$1,000$ back $40$ periods at $6$ percent per period, rather than $20$ years at $12$ percent. The reason is that the effective annual yield on the bond is $1.06^{2} - 1 = .1236$ or $12.36\\%$, not $12$ percent. We thus could have used $12.36$ percent per year for $20$ years when we calculated the present value of the $\\$1,000$ face value amount, and the answer would have been the same. \n",
    "\n",
    "<br>\n",
    "\n",
    "Your assignment for this problem is to write a function in `Python` that solves for the price of a bond. What you are solving for is really just a present value, so you can call it `present_value`. Test it by replicating in code the problem that is solved for you above. \n",
    "\n",
    "<br>"
   ]
  },
  {
   "cell_type": "code",
   "execution_count": 20,
   "metadata": {},
   "outputs": [
    {
     "name": "stdout",
     "output_type": "stream",
     "text": [
      "The price of the bond is: $849.54\n"
     ]
    }
   ],
   "source": [
    "import numpy as np\n",
    "\n",
    "FV = 1000\n",
    "nper = 40\n",
    "coupon = .1\n",
    "freq = 2\n",
    "YTM = .12\n",
    "\n",
    "def present_value(FV, nper, coupon, freq, YTM):\n",
    "    cash_flows = np.empty(nper)\n",
    "    cash_flows.fill(FV*coupon/freq)\n",
    "    cash_flows[-1] += FV\n",
    "    per = 1\n",
    "    PV = 0\n",
    "    for i in cash_flows:\n",
    "        PV += i/(1+YTM/freq)**per\n",
    "        per +=1\n",
    "    \n",
    "    print(f\"The price of the bond is: ${PV :,.2f}\")        \n",
    "present_value(FV, nper, coupon, freq, YTM)"
   ]
  },
  {
   "cell_type": "markdown",
   "metadata": {},
   "source": [
    "<br>\n",
    "\n",
    "__Note:__ just a brief note about the above formula for the bond price. It is using the present value of annuity formula to calculate the present value of the coupon payments. We could re-write the formula to be more generic as:\n",
    "\n",
    "$$\n",
    "\\begin{aligned}\n",
    "\\mbox{Bond price} &= \\left( \\sum_{t=1}^{M} \\frac{\\mbox{Coupon}_{t}}{(1 + r)^{t}} \\right) + \\frac{\\mbox{Face Value}}{(1 + r)^{M}} \\\\\n",
    "                  &= \\sum_{t=1}^{M} \\frac{CF_{t}}{(1 + r)^{t}}\n",
    "\\end{aligned}\n",
    "$$\n",
    "\n",
    "where $CF_{t}$ is the cash flow of the bond at time $t$. For every period up to the second to last one this is the coupon payment. The final cash flow would be the final coupon payment plus the face value amount of the bond. So for this particular bond above this amounts to the following:\n",
    "\n",
    "$$\n",
    "\\mbox{Bond price} = \\sum_{t=1}^{M} \\frac{CF_{t}}{(1 + r)^{t}} = \\frac{50.0}{(1.06)^{1}} + \\frac{50.0}{(1.06)^{2}} + \\cdots + \\frac{50.0}{(1.06)^{39}} + \\frac{1050.0}{(1.06)^{40}}\n",
    "$$\n",
    "\n",
    "<br>\n",
    "\n",
    "This should help you see why I set up the `cash_flows` ndarray as I did above. \n",
    "\n",
    "<br>"
   ]
  },
  {
   "cell_type": "markdown",
   "metadata": {},
   "source": [
    "#### __Problem 4 - Bond Yields & Binary Search__"
   ]
  },
  {
   "cell_type": "markdown",
   "metadata": {},
   "source": [
    "This another problem from _Chapter 7: Interest Rates and Bond Valuation_ from the textbook _Fundamentals of Corporate Finance 12ed_ by Ross, Westerfield, and Jordan. \n",
    "\n",
    "<br>\n",
    "\n",
    "__The Problem Statement:__\n",
    "\n",
    "<br>\n",
    "\n",
    "A corporate coupon bond carries an $8$ percent coupon, paid semiannually. The par value is $\\$1,000$, and the bond matures in six years. If the bond currently sells for $\\$911.37$, what is the yield to maturity? What is the effective annual yield? \n",
    "\n",
    "<br>\n",
    "\n",
    "__The Problem Solution__\n",
    "\n",
    "<br>\n",
    "\n",
    "The present value of the bond's cash flows is its current price, $\\$911.37$. The coupon is $\\$40$ every six months for $12$ periods. The face value is $\\$1,000$. So the bond's yield is the unknown discount rate in the following: \n",
    "\n",
    "$$\n",
    "\\$911.37 = \\$40 \\times \\frac{\\left[1 - \\frac{1}{(1 + r)^{12}}\\right]}{r} + \\frac{1,000}{(1 + r)^{12}}\n",
    "$$\n",
    "\n",
    "<br>\n",
    "\n",
    "The bond sells at a discount. Because the coupon rate is $8$ percent, the yield must be something in excess of that. \n",
    "\n",
    "If we were to solve this by trial and error, we might try $12$ percent (or $6$ percent per six months):\n",
    "\n",
    "$$\n",
    "\\begin{aligned}\n",
    "\\mbox{Bond value} &= \\$40 \\times \\frac{\\left[1 - \\frac{1}{1.06^{12}}\\right]}{.06} + \\frac{1,000}{1.06^{12}} \\\\\n",
    "                  &= \\$832.32\n",
    "\\end{aligned}\n",
    "$$\n",
    "\n",
    "<br>\n",
    "\n",
    "This is less than the actual value, so our discount rate is too high. We now know that the yield is somewhere between $8$ and $12$ percent. With further trial and error (or a little machine assistance), the yield works out to be $10$ percent, or $5$ percent every six months. \n",
    "\n",
    "By convention, the bond's yield to maturity would be quoted as $2 \\times 5\\% = 10\\%$. The effective annual yield is $1.05^{2} - 1 = .1025$ or $10.25\\%$.\n",
    "\n",
    "<br>\n",
    "\n",
    "Your assignment in this problem is to write a function that uses binary search like in the number guessing game together with your `present_value` function from the previous problem to solve for the bond's annual yield to maturity. \n",
    "\n",
    "<br>"
   ]
  },
  {
   "cell_type": "code",
   "execution_count": 21,
   "metadata": {},
   "outputs": [
    {
     "name": "stdout",
     "output_type": "stream",
     "text": [
      "The Yield to Maturity of the bond is: 10.00%\n",
      "The Effective Yield of the bond is: 10.25%\n"
     ]
    }
   ],
   "source": [
    "import numpy as np\n",
    "\n",
    "FV = 1000\n",
    "coupon = .08\n",
    "years_to_maturity = 6\n",
    "freq = 2\n",
    "bondprice = 911.37\n",
    "\n",
    "def Yield(FV, coupon, years_to_maturity, freq, bondprice):\n",
    "    ytm_guess = coupon\n",
    "    cash_flow = np.full(years_to_maturity*freq, FV*coupon/freq)\n",
    "    cash_flow[-1] += FV\n",
    "    discount = np.array([1/((1 + ytm_guess/freq)**i) for i in range (1, cash_flow.shape[0] + 1)])\n",
    "    pv_guess = np.sum(cash_flow * discount)\n",
    "    lowerbound = 0.0\n",
    "    upperbound = .99\n",
    "    tolerance = 10**-6\n",
    "    while abs(pv_guess - bondprice) > tolerance:\n",
    "        if pv_guess < bondprice:\n",
    "            upperbound = ytm_guess\n",
    "            ytm_guess = (upperbound + lowerbound)/2\n",
    "        else:\n",
    "            lowerbound = ytm_guess\n",
    "            ytm_guess = (lowerbound + upperbound)/2\n",
    "        discount = np.array([1/((1 + ytm_guess/freq)**i) for i in range (1, cash_flow.shape[0] + 1)])\n",
    "        pv_guess = np.sum(cash_flow * discount)\n",
    "        \n",
    "    EY = (1 + ytm_guess/freq)**freq - 1\n",
    "    \n",
    "    print(f\"The Yield to Maturity of the bond is: {ytm_guess*100 :,.2f}%\") \n",
    "    print(f\"The Effective Yield of the bond is: {EY*100 :,.2f}%\")\n",
    "Yield(FV, coupon, years_to_maturity, freq, bondprice)"
   ]
  },
  {
   "cell_type": "markdown",
   "metadata": {},
   "source": [
    "## Additional Problems\n",
    "### Problem 1"
   ]
  },
  {
   "cell_type": "code",
   "execution_count": 22,
   "metadata": {},
   "outputs": [
    {
     "name": "stdout",
     "output_type": "stream",
     "text": [
      "613.9132535407591\n",
      "385.5432894295314\n",
      "247.18470612186584\n"
     ]
    }
   ],
   "source": [
    "import numpy as np\n",
    "\n",
    "FV = 1000\n",
    "coupon = .0\n",
    "years_to_maturity = 10\n",
    "freq = 1\n",
    "\n",
    "def bond_price(FV, coupon, years_to_maturity, freq, ytm):\n",
    "    cash_flow = np.full(years_to_maturity*freq, FV*coupon/freq)\n",
    "    cash_flow[-1] += FV\n",
    "    discount = np.array([1/((1 + ytm/freq)**i) for i in range (1, cash_flow.shape[0] + 1)])\n",
    "    pv_guess = np.sum(cash_flow * discount)\n",
    "    print(np.sum(pv_guess))\n",
    "\n",
    "bond_price(FV, coupon, years_to_maturity, freq, .05)\n",
    "bond_price(FV, coupon, years_to_maturity, freq, .1)\n",
    "bond_price(FV, coupon, years_to_maturity, freq, .15)"
   ]
  },
  {
   "cell_type": "markdown",
   "metadata": {},
   "source": [
    "### Answer\n",
    "a) 613.91 <br>\n",
    "b) 385.54 <br>\n",
    "c) 247.18"
   ]
  },
  {
   "cell_type": "markdown",
   "metadata": {},
   "source": [
    "### Problem 2"
   ]
  },
  {
   "cell_type": "code",
   "execution_count": 23,
   "metadata": {},
   "outputs": [
    {
     "name": "stdout",
     "output_type": "stream",
     "text": [
      "1000.0000000000019\n",
      "802.3799222145904\n",
      "1283.6231168054267\n"
     ]
    }
   ],
   "source": [
    "bond_price(1000, .07, 25, 2, .07)\n",
    "bond_price(1000, .07, 25, 2, .09)\n",
    "bond_price(1000, .07, 25, 2, .05)"
   ]
  },
  {
   "cell_type": "markdown",
   "metadata": {},
   "source": [
    "### Answer\n",
    "a) 1000.00 <br>\n",
    "b) 802.38 <br>\n",
    "c) 1283.62"
   ]
  },
  {
   "cell_type": "markdown",
   "metadata": {},
   "source": [
    "### Problem 3"
   ]
  },
  {
   "cell_type": "code",
   "execution_count": 24,
   "metadata": {},
   "outputs": [
    {
     "name": "stdout",
     "output_type": "stream",
     "text": [
      "The Yield to Maturity of the bond is: 7.09%\n",
      "The Effective Yield of the bond is: 7.22%\n"
     ]
    }
   ],
   "source": [
    "import numpy as np\n",
    "\n",
    "FV = 1000\n",
    "coupon = .078\n",
    "years_to_maturity = 10\n",
    "freq = 2\n",
    "bondprice = FV*1.05\n",
    "\n",
    "def Yield(FV, coupon, years_to_maturity, freq, bondprice):\n",
    "    ytm_guess = coupon\n",
    "    cash_flow = np.full(years_to_maturity*freq, FV*coupon/freq)\n",
    "    cash_flow[-1] += FV\n",
    "    discount = np.array([1/((1 + ytm_guess/freq)**i) for i in range (1, cash_flow.shape[0] + 1)])\n",
    "    pv_guess = np.sum(cash_flow * discount)\n",
    "    lowerbound = 0.0\n",
    "    upperbound = .99\n",
    "    tolerance = 10**-6\n",
    "    while abs(pv_guess - bondprice) > tolerance:\n",
    "        if pv_guess < bondprice:\n",
    "            upperbound = ytm_guess\n",
    "            ytm_guess = (upperbound + lowerbound)/2\n",
    "        else:\n",
    "            lowerbound = ytm_guess\n",
    "            ytm_guess = (lowerbound + upperbound)/2\n",
    "        discount = np.array([1/((1 + ytm_guess/freq)**i) for i in range (1, cash_flow.shape[0] + 1)])\n",
    "        pv_guess = np.sum(cash_flow * discount)\n",
    "        \n",
    "    EY = (1 + ytm_guess/freq)**freq - 1\n",
    "    \n",
    "    print(f\"The Yield to Maturity of the bond is: {ytm_guess*100 :,.2f}%\") \n",
    "    print(f\"The Effective Yield of the bond is: {EY*100 :,.2f}%\")\n",
    "Yield(FV, coupon, years_to_maturity, freq, bondprice)"
   ]
  },
  {
   "cell_type": "markdown",
   "metadata": {},
   "source": [
    "### Answer\n",
    "The YTM is 7.09%"
   ]
  },
  {
   "cell_type": "markdown",
   "metadata": {},
   "source": [
    "### Problem 4"
   ]
  },
  {
   "cell_type": "code",
   "execution_count": 25,
   "metadata": {},
   "outputs": [
    {
     "name": "stdout",
     "output_type": "stream",
     "text": [
      "The Yield to Maturity of the bond is: 8.03%\n",
      "The Effective Yield of the bond is: 8.19%\n"
     ]
    }
   ],
   "source": [
    "Yield(1000, .074, 9, 2, 1000*.96)"
   ]
  },
  {
   "cell_type": "markdown",
   "metadata": {},
   "source": [
    "### Answer\n",
    "The YTM is 8.03%"
   ]
  },
  {
   "cell_type": "markdown",
   "metadata": {},
   "source": [
    "### Problem 5"
   ]
  },
  {
   "cell_type": "code",
   "execution_count": 29,
   "metadata": {},
   "outputs": [
    {
     "name": "stdout",
     "output_type": "stream",
     "text": [
      "The Yield to Maturity of the bond is: 9.30%\n",
      "The Effective Yield of the bond is: 9.52%\n"
     ]
    }
   ],
   "source": [
    "Yield(1000, .1, 20, 2, 1063)"
   ]
  },
  {
   "cell_type": "markdown",
   "metadata": {},
   "source": [
    "### Answer\n",
    "In order to sell the new bonds at par, the coupon rate should be 9.3%"
   ]
  },
  {
   "cell_type": "markdown",
   "metadata": {},
   "source": [
    "### Problem 6"
   ]
  },
  {
   "cell_type": "markdown",
   "metadata": {},
   "source": [
    "a) You run a one-of-a-kind movie theater hotel called SixInch because customers generally sit six inches apart. Your business has been going down the tube as of late and you need to raise some capital. Because of the dire situation of your company you offer a triannual 21% coupon bond with a 1000 dollar face value that matures in 5 years. Your investors require a yield to maturity of 30%. What is the price of your bond?"
   ]
  },
  {
   "cell_type": "code",
   "execution_count": 30,
   "metadata": {},
   "outputs": [
    {
     "name": "stdout",
     "output_type": "stream",
     "text": [
      "771.8176148107484\n"
     ]
    }
   ],
   "source": [
    "bond_price(1000, .21, 5, 3, .3)"
   ]
  },
  {
   "cell_type": "markdown",
   "metadata": {},
   "source": [
    "b) People love every business you've created even those that have failed. You're raising money for your next venture by issuing a 1000 dollar face value bond with a .1% semiannual couupon that matures in 100 years. Because you're so amazing, your investors are willing to accept a YTM of -1%. What is the issue price of your bond?"
   ]
  },
  {
   "cell_type": "code",
   "execution_count": 9,
   "metadata": {},
   "outputs": [
    {
     "name": "stdout",
     "output_type": "stream",
     "text": [
      "2897.619712329901\n"
     ]
    }
   ],
   "source": [
    "bond_price(1000, .001, 100, 2, -.01)"
   ]
  },
  {
   "cell_type": "markdown",
   "metadata": {},
   "source": [
    "### Problem 7"
   ]
  },
  {
   "cell_type": "code",
   "execution_count": 10,
   "metadata": {},
   "outputs": [],
   "source": [
    "import numpy_financial as npf\n",
    "def irr(FV, coupon, years_to_maturity, freq, bondprice):\n",
    "    cash_flow = np.full(years_to_maturity*freq, FV*coupon/freq)\n",
    "    cash_flow[-1] += FV\n",
    "    CF = np.concatenate(([-bondprice], cash_flow))\n",
    "    irr = npf.irr(CF)\n",
    "    print(f\"The irr is {irr*100*freq :,.2f}%\")"
   ]
  },
  {
   "cell_type": "markdown",
   "metadata": {},
   "source": [
    "a) Your child has unsuccessfully saved for college. They now want you to give them a 4 year loan to pay for college and they will pay you back when they graduate. What is your YTM if they are asking for 10,000 dollars?"
   ]
  },
  {
   "cell_type": "code",
   "execution_count": 11,
   "metadata": {},
   "outputs": [
    {
     "name": "stdout",
     "output_type": "stream",
     "text": [
      "The Yield to Maturity of the bond is: 0.00%\n",
      "The Effective Yield of the bond is: 0.00%\n",
      "The irr is 0.00%\n"
     ]
    }
   ],
   "source": [
    "Yield(10000, 0, 4, 1, 10000)\n",
    "irr(10000, 0, 4, 1, 10000)"
   ]
  },
  {
   "cell_type": "markdown",
   "metadata": {},
   "source": [
    "b) You don't agree to your child's proposition, so you propose another option. You give them the 10,000 dollars, and they must pay you back when they graduate, plus they must buy you a 20 dollar value dinner each month you come to visit them (including graduation day). What is your YTM on this loan?"
   ]
  },
  {
   "cell_type": "code",
   "execution_count": 12,
   "metadata": {},
   "outputs": [
    {
     "name": "stdout",
     "output_type": "stream",
     "text": [
      "The Yield to Maturity of the bond is: 0.20%\n",
      "The Effective Yield of the bond is: 0.20%\n",
      "The irr is 0.20%\n"
     ]
    }
   ],
   "source": [
    "Yield(10000, 0.002, 4, 12, 10000)\n",
    "irr(10000, 0.002, 4, 12, 10000)"
   ]
  }
 ],
 "metadata": {
  "kernelspec": {
   "display_name": "Python 3",
   "language": "python",
   "name": "python3"
  },
  "language_info": {
   "codemirror_mode": {
    "name": "ipython",
    "version": 3
   },
   "file_extension": ".py",
   "mimetype": "text/x-python",
   "name": "python",
   "nbconvert_exporter": "python",
   "pygments_lexer": "ipython3",
   "version": "3.8.3"
  }
 },
 "nbformat": 4,
 "nbformat_minor": 4
}
